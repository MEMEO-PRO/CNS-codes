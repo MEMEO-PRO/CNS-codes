{
 "cells": [
  {
   "cell_type": "code",
   "execution_count": 19,
   "metadata": {},
   "outputs": [
    {
     "name": "stdout",
     "output_type": "stream",
     "text": [
      "Sender : 1010000011\n"
     ]
    },
    {
     "ename": "KeyboardInterrupt",
     "evalue": "",
     "output_type": "error",
     "traceback": [
      "\u001b[0;31m---------------------------------------------------------------------------\u001b[0m",
      "\u001b[0;31mKeyboardInterrupt\u001b[0m                         Traceback (most recent call last)",
      "Cell \u001b[0;32mIn[19], line 32\u001b[0m\n\u001b[1;32m     30\u001b[0m \u001b[39mwhile\u001b[39;00m \u001b[39mint\u001b[39m(sender) \u001b[39m>\u001b[39m\u001b[39m=\u001b[39m \u001b[39m0\u001b[39m :\n\u001b[1;32m     31\u001b[0m     \u001b[39mfor\u001b[39;00m i \u001b[39min\u001b[39;00m \u001b[39mrange\u001b[39m(\u001b[39mlen\u001b[39m(crc)):\n\u001b[0;32m---> 32\u001b[0m         st \u001b[39m=\u001b[39m st \u001b[39m+\u001b[39m \u001b[39mstr\u001b[39m(\u001b[39mint\u001b[39m(crc[i]) \u001b[39m^\u001b[39m \u001b[39mint\u001b[39m(sender[i]))\n\u001b[1;32m     33\u001b[0m     sender \u001b[39m=\u001b[39m st \u001b[39m+\u001b[39m sender[\u001b[39mlen\u001b[39m(crc):]\n\u001b[1;32m     34\u001b[0m     st \u001b[39m=\u001b[39m \u001b[39m'\u001b[39m\u001b[39m'\u001b[39m\n",
      "\u001b[0;31mKeyboardInterrupt\u001b[0m: "
     ]
    }
   ],
   "source": [
    "crc = input(\"Enter crc bit: \")\n",
    "message_1 = input(\"Enter the message: \")\n",
    "message_2 = message_1 + (len(crc) - 1) * '0'\n",
    "\n",
    "bits = message_2\n",
    "main = ''\n",
    "st = ''\n",
    "key = 0\n",
    "\n",
    "while len(bits[bits.index('1'):]) >= len(crc):\n",
    "    for i in range(len(crc)):\n",
    "        st = st + str(int(crc[i]) ^ int(bits[i]))\n",
    "    if '1' in st:\n",
    "        bits = st[st.index('1'):] + bits[len(crc):]\n",
    "    else:\n",
    "        bits = bits[len(crc):]\n",
    "    st = ''\n",
    "    if '1' not in bits:\n",
    "        key = 1\n",
    "        break\n",
    "\n",
    "if key:\n",
    "    bits = (len(crc) - 1) * '0'\n",
    "else:\n",
    "    bits = (len(crc) - len(bits) - 1) * '0' + bits\n",
    "\n",
    "sender = message_1 + bits\n",
    "print(f\"Sender : {sender}\")\n",
    "\n",
    "while int(sender) >= 0 :\n",
    "    for i in range(len(crc)):\n",
    "        st = st + str(int(crc[i]) ^ int(sender[i]))\n",
    "    sender = st + sender[len(crc):]\n",
    "    st = ''\n",
    "    if '1' not in bits:\n",
    "        key = 1\n",
    "        break\n",
    "\n",
    "if key:\n",
    "    bits = (len(crc) -1) * '0'\n",
    "else:\n",
    "    bits = (len(crc) - len(bits) - 1) * '0' + bits\n",
    "\n",
    "\n",
    "sender = message_1 + bits\n",
    "print(f\"Sender : {sender}\")\n",
    "\n",
    "while len(sender) >= len(crc):\n",
    "    for i in range(len(crc)):\n",
    "        st = st + str(int(crc[i]) ^ int(sender[i]))\n",
    "    sender = st + sender[len(crc):]\n",
    "    st = ''\n",
    "    if '1' in sender:\n",
    "        sender = sender[sender.index('1'):]\n",
    "    else:\n",
    "        break\n",
    "\n",
    "receiver = sender\n",
    "\n",
    "print(f\"Receiver: {receiver}\")\n",
    "\n",
    "\n",
    "\n",
    "\n"
   ]
  },
  {
   "cell_type": "code",
   "execution_count": 21,
   "metadata": {},
   "outputs": [
    {
     "name": "stdout",
     "output_type": "stream",
     "text": [
      "Original Data:     0111111\n",
      "Stuffed Data:      01111101\n",
      "Destuffed Data:    0111101\n"
     ]
    }
   ],
   "source": [
    "def bit_stuffing(data):\n",
    "    stuffed_data = \"\"\n",
    "    count = 0\n",
    "    \n",
    "    for bit in data:\n",
    "        if bit == \"1\":\n",
    "            count += 1\n",
    "        else:\n",
    "            count = 0\n",
    "        \n",
    "        stuffed_data += bit\n",
    "        \n",
    "        if count == 5:\n",
    "            stuffed_data += \"0\"\n",
    "            count = 0\n",
    "    \n",
    "    return stuffed_data\n",
    "\n",
    "\n",
    "def bit_destuffing(stuffed_data):\n",
    "    destuffed_data = \"\"\n",
    "    count = 0\n",
    "    \n",
    "    for bit in stuffed_data:\n",
    "        if bit == \"1\":\n",
    "            count += 1\n",
    "        else:\n",
    "            count = 0\n",
    "        \n",
    "        destuffed_data += bit\n",
    "        \n",
    "        if count == 5:\n",
    "            if bit == \"0\":\n",
    "                count = 1\n",
    "            else:\n",
    "                destuffed_data = destuffed_data[:-1]\n",
    "                count = 0\n",
    "    \n",
    "    return destuffed_data\n",
    "\n",
    "\n",
    "# Example usage:\n",
    "data = \"0111111\"\n",
    "stuffed_data = bit_stuffing(data)\n",
    "destuffed_data = bit_destuffing(stuffed_data)\n",
    "\n",
    "print(\"Original Data:    \", data)\n",
    "print(\"Stuffed Data:     \", stuffed_data)\n",
    "print(\"Destuffed Data:   \", destuffed_data)\n"
   ]
  },
  {
   "cell_type": "code",
   "execution_count": 23,
   "metadata": {},
   "outputs": [
    {
     "name": "stdout",
     "output_type": "stream",
     "text": [
      "-24\n"
     ]
    }
   ],
   "source": [
    "\n",
    "char = \"y\"\n",
    "print((ord(\"a\") - ord(char)))\n"
   ]
  },
  {
   "cell_type": "code",
   "execution_count": 24,
   "metadata": {},
   "outputs": [
    {
     "name": "stdout",
     "output_type": "stream",
     "text": [
      "Initial Routing Table:\n",
      "Node\tDistance\tNext Hop\n",
      "A\t0\t\tNone\n",
      "B\t3\t\tA\n",
      "C\t2\t\tA\n",
      "D\t3\t\tC\n",
      "E\t5\t\tD\n",
      "\n",
      "Shortest Path from A to E : ['A', 'C', 'D', 'E']\n"
     ]
    }
   ],
   "source": [
    "INF = float('inf')\n",
    "\n",
    "def distance_vector_routing(vertices, edges, source, destination):\n",
    "    # Step 1: Initialize distance and next_hop tables\n",
    "    distance_table = {v: INF for v in vertices}\n",
    "    next_hop_table = {v: None for v in vertices}\n",
    "    \n",
    "    # Set distance to self as 0\n",
    "    distance_table[source] = 0\n",
    "    \n",
    "    # Step 2: Iterate and update the distance table until convergence\n",
    "    for _ in range(len(vertices)-1):\n",
    "        for u, v, cost in edges:\n",
    "            if distance_table[u] != INF and distance_table[u] + cost < distance_table[v]:\n",
    "                distance_table[v] = distance_table[u] + cost\n",
    "                next_hop_table[v] = u\n",
    "    \n",
    "    # Step 3: Check for negative cycles\n",
    "    for u, v, cost in edges:\n",
    "        if distance_table[u] != INF and distance_table[u] + cost < distance_table[v]:\n",
    "            raise ValueError(\"Negative cycle detected. The network contains a routing loop.\")\n",
    "    \n",
    "    # Step 4: Find the shortest path from source to destination\n",
    "    path = []\n",
    "    node = destination\n",
    "    while node != source:\n",
    "        path.append(node)\n",
    "        node = next_hop_table[node]\n",
    "    path.append(source)\n",
    "    path.reverse()\n",
    "    \n",
    "    return distance_table, next_hop_table, path\n",
    "\n",
    "\n",
    "# Example usage:\n",
    "vertices = ['A', 'B', 'C', 'D', 'E']\n",
    "edges = [('A', 'B', 3), ('A', 'C', 2), ('B', 'D', 4), ('C', 'D', 1), ('C', 'E', 5), ('D', 'E', 2)]\n",
    "source = 'A'\n",
    "destination = 'E'\n",
    "\n",
    "distance_table, next_hop_table, shortest_path = distance_vector_routing(vertices, edges, source, destination)\n",
    "\n",
    "print(\"Initial Routing Table:\")\n",
    "print(\"Node\\tDistance\\tNext Hop\")\n",
    "for vertex in vertices:\n",
    "    print(f\"{vertex}\\t{distance_table[vertex]}\\t\\t{next_hop_table[vertex]}\")\n",
    "\n",
    "print(\"\\nShortest Path from\", source, \"to\", destination, \":\", shortest_path)\n"
   ]
  }
 ],
 "metadata": {
  "kernelspec": {
   "display_name": "mlp",
   "language": "python",
   "name": "python3"
  },
  "language_info": {
   "codemirror_mode": {
    "name": "ipython",
    "version": 3
   },
   "file_extension": ".py",
   "mimetype": "text/x-python",
   "name": "python",
   "nbconvert_exporter": "python",
   "pygments_lexer": "ipython3",
   "version": "3.8.16"
  },
  "orig_nbformat": 4
 },
 "nbformat": 4,
 "nbformat_minor": 2
}
